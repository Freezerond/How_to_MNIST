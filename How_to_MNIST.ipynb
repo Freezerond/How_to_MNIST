{
 "cells": [
  {
   "cell_type": "code",
   "execution_count": 1,
   "metadata": {},
   "outputs": [],
   "source": [
    "import torch\n",
    "from torch import nn"
   ]
  },
  {
   "cell_type": "code",
   "execution_count": 3,
   "metadata": {},
   "outputs": [
    {
     "data": {
      "text/plain": [
       "Linear(in_features=5, out_features=1, bias=True)"
      ]
     },
     "execution_count": 3,
     "metadata": {},
     "output_type": "execute_result"
    }
   ],
   "source": [
    "neuron = nn.Linear(in_features=5, out_features=1, bias=True)"
   ]
  },
  {
   "cell_type": "code",
   "execution_count": 6,
   "metadata": {},
   "outputs": [
    {
     "data": {
      "text/plain": [
       "tensor([0.1226], grad_fn=<ViewBackward0>)"
      ]
     },
     "execution_count": 6,
     "metadata": {},
     "output_type": "execute_result"
    }
   ],
   "source": [
    "X = torch.rand(5)\n",
    "y = neuron(X)\n",
    "y"
   ]
  },
  {
   "cell_type": "code",
   "execution_count": 21,
   "metadata": {},
   "outputs": [
    {
     "name": "stdout",
     "output_type": "stream",
     "text": [
      "tensor([0.5076, 0.2397, 0.1468, 0.1769, 0.7200])\n",
      "Parameter containing:\n",
      "tensor([[-0.1216,  0.0819, -0.2786,  0.0135,  0.0125]], requires_grad=True)\n"
     ]
    },
    {
     "data": {
      "text/plain": [
       "tensor([0.3596], grad_fn=<AddBackward0>)"
      ]
     },
     "execution_count": 21,
     "metadata": {},
     "output_type": "execute_result"
    }
   ],
   "source": [
    "print(X)\n",
    "print(neuron.weight)\n",
    "\n",
    "torch.sum(neuron.weight * X) + neuron.bias"
   ]
  },
  {
   "cell_type": "code",
   "execution_count": 25,
   "metadata": {},
   "outputs": [
    {
     "data": {
      "text/plain": [
       "tensor([ 0.4817, -0.1418,  0.4010,  0.3839, -0.3303,  0.0893, -0.5383,  0.0504,\n",
       "         0.7048,  0.1630], grad_fn=<AddBackward0>)"
      ]
     },
     "execution_count": 25,
     "metadata": {},
     "output_type": "execute_result"
    }
   ],
   "source": [
    "pair = nn.Linear(5, 2)\n",
    "deep_layer = nn.Linear(2, 10)\n",
    "\n",
    "x = pair(X)\n",
    "x = deep_layer(x)\n",
    "x"
   ]
  },
  {
   "cell_type": "code",
   "execution_count": 30,
   "metadata": {},
   "outputs": [
    {
     "name": "stdout",
     "output_type": "stream",
     "text": [
      "torch.Size([100, 2])\n"
     ]
    }
   ],
   "source": [
    "batch = torch.rand(100, 5)\n",
    "print(pair(batch).size())"
   ]
  },
  {
   "cell_type": "code",
   "execution_count": 35,
   "metadata": {},
   "outputs": [
    {
     "name": "stdout",
     "output_type": "stream",
     "text": [
      "torch.Size([100, 1])\n"
     ]
    }
   ],
   "source": [
    "class Net(nn.Module):\n",
    "    # Первый аргумент метода класса - всегда self, т.е. указание на объект\n",
    "    def __init__(self):\n",
    "        super(Net, self).__init__() # Вызов конструктора родителя\n",
    "        \n",
    "        # Описание архитектуры сети\n",
    "        self.fc1 = nn.Linear(128, 64)\n",
    "        self.fc2 = nn.Linear(64, 1)\n",
    "    \n",
    "    # Метод, который описывает прямой проход, т.е. порядок следования слоёв\n",
    "    def forward(self, x):\n",
    "        x = self.fc1(x)\n",
    "        x = self.fc2(x)\n",
    "        \n",
    "        return x\n",
    "    \n",
    "    \n",
    "net = Net() # Создаём экземпляр класса Net, т.е. конкретный чёрный ящик\n",
    "# model = DecisionTreeClassifier(могут быть параметры) - аналогия с scikit\n",
    "\n",
    "batch = torch.rand(100, 128)\n",
    "y = net(batch)\n",
    "\n",
    "print(y.size())"
   ]
  },
  {
   "cell_type": "markdown",
   "metadata": {},
   "source": [
    "# MNIST Digits"
   ]
  },
  {
   "cell_type": "code",
   "execution_count": null,
   "metadata": {},
   "outputs": [],
   "source": [
    "# Качаем датасеты\n",
    "train_url = 'http://istrm.cf/ml/mnist_train.tar.gz'\n",
    "test_url = 'http://istrm.cf/ml/mnist_test.tar.gz'\n",
    "\n",
    "!wget $train_url $test_url"
   ]
  },
  {
   "cell_type": "code",
   "execution_count": null,
   "metadata": {},
   "outputs": [],
   "source": [
    "# Распаковываем их (для тех, кто работает на своём компьютере на Windows - разархивировать вручную)\n",
    "\n",
    "!tar -xf ./mnist_train.tar.gz\n",
    "!tar -xf ./mnist_test.tar.gz"
   ]
  },
  {
   "cell_type": "code",
   "execution_count": 53,
   "metadata": {},
   "outputs": [
    {
     "data": {
      "image/png": "[encoded data removed]",
      "text/plain": [
       "<Figure size 432x288 with 1 Axes>"
      ]
     },
     "metadata": {
      "needs_background": "light"
     },
     "output_type": "display_data"
    }
   ],
   "source": [
    "# Пощупаем датасеты\n",
    "\n",
    "from pathlib import Path\n",
    "import matplotlib.pyplot as plt\n",
    "\n",
    "train_dir = Path('./train')  # Указание на папку\n",
    "glob = train_dir.glob(\"*.png\") # Поиск внутри папки по шаблону *.png\n",
    "train_srcs = list(glob) # Список всех файлов для обучения\n",
    "\n",
    "# То же самое для валидационных примеров\n",
    "val_dir = Path('./test')  \n",
    "glob = val_dir.glob(\"*.png\")\n",
    "val_srcs = list(glob) \n",
    "\n",
    "i = 0\n",
    "img = plt.imread(train_srcs[i])\n",
    "plt.imshow(img)\n",
    "plt.title(train_srcs[0]);"
   ]
  },
  {
   "cell_type": "code",
   "execution_count": 59,
   "metadata": {},
   "outputs": [
    {
     "data": {
      "text/plain": [
       "12"
      ]
     },
     "execution_count": 59,
     "metadata": {},
     "output_type": "execute_result"
    }
   ],
   "source": [
    "src = train_srcs[0]\n",
    "\n",
    "int(str(src)[-5]) + 5"
   ]
  },
  {
   "cell_type": "code",
   "execution_count": 67,
   "metadata": {},
   "outputs": [],
   "source": [
    "from torch.utils.data import Dataset, DataLoader\n",
    "\n",
    "# Это класс, который определяет датасет\n",
    "# Он хранит в себе обучающие объекты: (признаки, ответы)\n",
    "\n",
    "class myDataset(Dataset):\n",
    "    def __init__(self, srcs):\n",
    "        self.imgs = [] # Сюда будем складывать загруженный картинки\n",
    "        self.answers = [] # Сюда будем складывать ответы\n",
    "        \n",
    "        for src in srcs:\n",
    "            img = plt.imread(src).ravel() # Делаем из двумерного изображения - одномерное\n",
    "            self.imgs.append(img)\n",
    "            \n",
    "            ans = int(str(src)[-5])  # Берём ответ из названия файла и преобразуем его в число\n",
    "            self.answers.append(ans)\n",
    "            \n",
    "        self.srcs = srcs\n",
    "    \n",
    "    # Обязательно нужно явно прописать размер датасета\n",
    "    def __len__(self):\n",
    "        return len(self.imgs)\n",
    "    \n",
    "    def __getitem__(self, item):\n",
    "        x = self.imgs[item]\n",
    "        ans = self.answers[item]\n",
    "        \n",
    "        return x, ans"
   ]
  },
  {
   "cell_type": "code",
   "execution_count": 77,
   "metadata": {},
   "outputs": [],
   "source": [
    "train_dataset = myDataset(train_srcs)\n",
    "val_dataset = myDataset(val_srcs)\n",
    "\n",
    "train_loader = DataLoader(train_dataset, batch_size=64, shuffle=True) \n",
    "val_loader = DataLoader(val_dataset, batch_size=64, shuffle=False)"
   ]
  },
  {
   "cell_type": "code",
   "execution_count": 82,
   "metadata": {},
   "outputs": [
    {
     "data": {
      "text/plain": [
       "tensor([5, 3, 8, 2, 5, 8, 0, 7, 8, 2, 1, 9, 9, 7, 3, 2, 3, 5, 8, 3, 9, 1, 8, 5,\n",
       "        5, 4, 8, 0, 4, 8, 8, 8, 3, 5, 0, 8, 9, 6, 8, 2, 3, 1, 6, 6, 5, 3, 5, 5,\n",
       "        3, 6, 1, 6, 7, 8, 5, 9, 2, 4, 9, 6, 5, 8, 6, 3])"
      ]
     },
     "execution_count": 82,
     "metadata": {},
     "output_type": "execute_result"
    }
   ],
   "source": [
    "for batch in val_loader:\n",
    "    break\n",
    "\n",
    "x_batch, y_batch = batch\n",
    "\n",
    "y_batch"
   ]
  },
  {
   "cell_type": "code",
   "execution_count": 109,
   "metadata": {},
   "outputs": [],
   "source": [
    "class MNISTNet(nn.Module):\n",
    "    def __init__(self):\n",
    "        super(MNISTNet, self).__init__()\n",
    "        \n",
    "        # Описание архитектуры сети\n",
    "        self.fc1 = nn.Linear(784, 128)\n",
    "        self.fc2 = nn.Linear(128, 64)\n",
    "        self.fc3 = nn.Linear(64, 10)  # На последнем слое кол-во нейронов должно совпадать с кол-вом классов\n",
    "        \n",
    "        self.softmax = nn.Softmax(dim=1)  # dim=1 значит, что нормировка будет идти в строке (по столбцу)\n",
    "        \n",
    "    # Метод, который описывает прямой проход, т.е. порядок следования слоёв\n",
    "    def forward(self, x):\n",
    "        x = self.fc1(x)\n",
    "        x = self.fc2(x)\n",
    "        x = self.fc3(x)\n",
    "        \n",
    "        x = self.softmax(x)  # Нормировка выхода на 1\n",
    "        \n",
    "        return x"
   ]
  },
  {
   "cell_type": "code",
   "execution_count": 129,
   "metadata": {},
   "outputs": [
    {
     "data": {
      "application/vnd.jupyter.widget-view+json": {
       "model_id": "86ff7ca3244441bf80833f79a01fab49",
       "version_major": 2,
       "version_minor": 0
      },
      "text/plain": [
       "HBox(children=(FloatProgress(value=0.0), HTML(value='')))"
      ]
     },
     "metadata": {},
     "output_type": "display_data"
    },
    {
     "name": "stdout",
     "output_type": "stream",
     "text": [
      "\n"
     ]
    }
   ],
   "source": [
    "from tqdm.notebook import tqdm\n",
    "import numpy as np\n",
    "\n",
    "# Создаём модель\n",
    "model = MNISTNet()  # Модель будет вычислять на процессоре\n",
    "model = model.cuda()  # .cuda() переносит её на видеокарту\n",
    "\n",
    "# Создаём оптимизатор. В о. передаются:\n",
    "# * Параметры модели. Т.е. те веса, которые должны в ходе обучения поменять\n",
    "# model.parameters()\n",
    "# * lr - learning rate - гиперпараметр, который указывает с какой \"интенсивностью\" менять веса\n",
    "# По собственному опыту, 0.001 для Adam часто приводит к хорошему результату\n",
    "# * weigt_decay - это коэффициент L2-регулярзации, которые используется для борьбы с переобучение\n",
    "# чем он больше - тем меньше вероятность переобучиться. \n",
    "# По собственному опыту - 1e-5 до 1e-3 (слабое, но верное и серёьзное, но на некоторых данных может сломать)\n",
    "\n",
    "optim = torch.optim.Adam(model.parameters(), lr=0.001, weight_decay=1e-5)\n",
    "loss_fn = nn.CrossEntropyLoss()\n",
    "\n",
    "# Один проход через весь датасет (60000 / 64 (размер батча) = Х батчей) - называет эпохой\n",
    "\n",
    "loss_dict = dict(train=[], val=[])\n",
    "\n",
    "for epoch in tqdm(range(100)): # Допустим, будем учить 100 эпох\n",
    "    for phase in ['train', 'val']:\n",
    "        if phase == 'train':\n",
    "            model = model.train()  # Переводим модель в режим обучения\n",
    "            loader = train_loader\n",
    "            torch.set_grad_enabled(True)  # Заставляем модель сохранять градиенты (это необходимо для обуч.)\n",
    "        else:\n",
    "            model = model.eval()  # Переводим модель в режим исполнения\n",
    "            loader = val_loader\n",
    "            torch.set_grad_enabled(False)\n",
    "        \n",
    "        running_loss = []\n",
    "        for batch in loader:\n",
    "            X, y = batch  # Вынимаем признаки и ответы\n",
    "            \n",
    "            # И переносим их в видеопамять\n",
    "            X = X.cuda()\n",
    "            y = y.cuda()\n",
    "            predictions = model(X)\n",
    "            \n",
    "            loss = loss_fn(predictions, y)  # Считаем функцию потерь\n",
    "            \n",
    "            running_loss.append(loss.item())\n",
    "            if phase == 'val':\n",
    "                continue\n",
    "                \n",
    "            optim.zero_grad() # Для того, чтобы обновить веса\n",
    "            loss.backward()   # Нужно выполнить последовательно эти три команды\n",
    "            optim.step()      # Веса мы обновляем только на обучении\n",
    "            \n",
    "        # Закончили проход по данным\n",
    "        mean_loss = np.mean(running_loss)\n",
    "        loss_dict[phase].append(mean_loss)"
   ]
  },
  {
   "cell_type": "code",
   "execution_count": 173,
   "metadata": {},
   "outputs": [],
   "source": [
    "# Обученые веса модели хранятся в атрибуте .state_dict()\n",
    "state_dict = model.state_dict()\n",
    "\n",
    "# Чтобы его сохранить в файл используется команда torch.save()\n",
    "\n",
    "torch.save(state_dict, 'mnist_1.pt')"
   ]
  },
  {
   "cell_type": "code",
   "execution_count": 186,
   "metadata": {},
   "outputs": [],
   "source": [
    "# Как подгрузить\n",
    "\n",
    "# Создали модель с нуля\n",
    "new_model = MNISTNet()\n",
    "new_model = new_model.cuda()\n",
    "\n",
    "pretrained_state = torch.load('mnist_1.pt')\n",
    "new_model.load_state_dict(pretrained_state)\n",
    "\n",
    "# После загрузки модели её нужно переводить в eval()\n",
    "# Если на видеокарте - то model = model.cuda()\n",
    "new_model = new_model.eval()"
   ]
  },
  {
   "cell_type": "markdown",
   "metadata": {},
   "source": [
    "# Проверка результатов"
   ]
  },
  {
   "cell_type": "code",
   "execution_count": 130,
   "metadata": {},
   "outputs": [
    {
     "data": {
      "text/plain": [
       "[<matplotlib.lines.Line2D at 0x7fd97f5bb670>]"
      ]
     },
     "execution_count": 130,
     "metadata": {},
     "output_type": "execute_result"
    },
    {
     "data": {
      "image/png": "[encoded data removed]",
      "text/plain": [
       "<Figure size 432x288 with 1 Axes>"
      ]
     },
     "metadata": {
      "needs_background": "light"
     },
     "output_type": "display_data"
    }
   ],
   "source": [
    "import matplotlib.pyplot as plt\n",
    "\n",
    "plt.plot(loss_dict['train'])\n",
    "plt.plot(loss_dict['val'])"
   ]
  },
  {
   "cell_type": "code",
   "execution_count": 187,
   "metadata": {},
   "outputs": [],
   "source": [
    "loader = val_loader\n",
    "\n",
    "p = []  # Сюда предсказания\n",
    "a = []  # Сюда правильные ответы\n",
    "\n",
    "for batch in loader:\n",
    "    X, y = batch  # Вынимаем признаки и ответы\n",
    "\n",
    "    # И переносим их в видеопамять\n",
    "    X = X.cuda()\n",
    "    y = y.cuda()\n",
    "    predictions = new_model(X)\n",
    "    \n",
    "    p.append(predictions)\n",
    "    a.append(y)"
   ]
  },
  {
   "cell_type": "code",
   "execution_count": 188,
   "metadata": {},
   "outputs": [],
   "source": [
    "# Объединение\n",
    "cat_p = torch.cat(p)\n",
    "cat_a = torch.cat(a)\n",
    "\n",
    "# Достанем из видеопамяти\n",
    "cat_p = cat_p.detach().cpu().numpy()\n",
    "cat_a = cat_a.detach().cpu().numpy()\n",
    "\n",
    "pred = cat_p.argmax(axis=1)  # Ищем индекс максимального элемента\n",
    "ans = cat_a"
   ]
  },
  {
   "cell_type": "code",
   "execution_count": 189,
   "metadata": {},
   "outputs": [
    {
     "data": {
      "text/plain": [
       "0.9172"
      ]
     },
     "execution_count": 189,
     "metadata": {},
     "output_type": "execute_result"
    }
   ],
   "source": [
    "np.mean(pred == ans)"
   ]
  },
  {
   "cell_type": "code",
   "execution_count": 156,
   "metadata": {},
   "outputs": [],
   "source": [
    "# Ищем примеры, на которых модель ошиблась\n",
    "\n",
    "err = pred != ans # Маска ошибок\n",
    "err_index = np.where(err)[0]"
   ]
  },
  {
   "cell_type": "code",
   "execution_count": 170,
   "metadata": {},
   "outputs": [
    {
     "data": {
      "image/png": "[encoded data removed]",
      "text/plain": [
       "<Figure size 432x288 with 1 Axes>"
      ]
     },
     "metadata": {
      "needs_background": "light"
     },
     "output_type": "display_data"
    }
   ],
   "source": [
    "i = 10\n",
    "\n",
    "X, y = val_dataset[err_index[i]]\n",
    "pred_on_element = pred[err_index[i]]\n",
    "X = X.reshape(28, 28)  # Снова делаем двумерное изображение\n",
    "\n",
    "plt.imshow(X)\n",
    "plt.title(\"Помечен как \" + str(y) + \", предсказан как \" + str(pred_on_element));"
   ]
  },
  {
   "cell_type": "code",
   "execution_count": null,
   "metadata": {},
   "outputs": [],
   "source": []
  }
 ],
 "metadata": {
  "kernelspec": {
   "display_name": "Python 3 (ipykernel)",
   "language": "python",
   "name": "python3"
  },
  "language_info": {
   "codemirror_mode": {
    "name": "ipython",
    "version": 3
   },
   "file_extension": ".py",
   "mimetype": "text/x-python",
   "name": "python",
   "nbconvert_exporter": "python",
   "pygments_lexer": "ipython3",
   "version": "3.11.3"
  }
 },
 "nbformat": 4,
 "nbformat_minor": 4
}
